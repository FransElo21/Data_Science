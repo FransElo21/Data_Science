{
 "cells": [
  {
   "cell_type": "code",
   "execution_count": 2,
   "id": "aaa38e3e-2e25-47f5-8c32-b76a4cde1d4f",
   "metadata": {},
   "outputs": [],
   "source": [
    "import pandas as pd\n",
    "from collections import namedtuple\n",
    "\n",
    "# Path file CSV (sesuaikan dengan lokasi file Anda)\n",
    "file_path = \"raw data.csv\"\n",
    "# Membaca dataset\n",
    "df = pd.read_csv(file_path)"
   ]
  },
  {
   "cell_type": "code",
   "execution_count": 3,
   "id": "20d3d149-14d0-4daf-b692-14372845cafe",
   "metadata": {},
   "outputs": [
    {
     "name": "stdout",
     "output_type": "stream",
     "text": [
      "     Nama        NIM  Data mining  Desain Grafis Sistem Informasi Pendidikan  \\\n",
      "0    Ade   P03189001  Data mining            NaN                         NaN   \n",
      "1  Arina   P03189002          NaN            NaN                         NaN   \n",
      "2    Dias  P03189003  Data mining            NaN                         NaN   \n",
      "3   Bagas  P03189004          NaN            NaN                         NaN   \n",
      "4  Reyhan  P03189005  Data mining  Desain Grafis                         NaN   \n",
      "\n",
      "   Teknologi IoT   Pengolahan Citra Digital   Pemrograman CMS   \\\n",
      "0  Teknologi IoT   Pengolahan Citra Digital   Pemrograman CMS    \n",
      "1  Teknologi IoT   Pengolahan Citra Digital   Pemrograman CMS    \n",
      "2             NaN  Pengolahan Citra Digital   Pemrograman CMS    \n",
      "3             NaN  Pengolahan Citra Digital   Pemrograman CMS    \n",
      "4             NaN  Pengolahan Citra Digital   Pemrograman CMS    \n",
      "\n",
      "   Realitas Virtual   Game Edukasi  Sistem Keamanan Jaringan  \n",
      "0                NaN           NaN                       NaN  \n",
      "1  Realitas Virtual            NaN                       NaN  \n",
      "2  Realitas Virtual            NaN                       NaN  \n",
      "3  Realitas Virtual   Game Edukasi  Sistem Keamanan Jaringan  \n",
      "4                NaN  Game Edukasi                       NaN  \n"
     ]
    }
   ],
   "source": [
    "print(df.head())"
   ]
  },
  {
   "cell_type": "code",
   "execution_count": 4,
   "id": "4ee4d8aa-b324-4416-b0dc-423bc8a0610b",
   "metadata": {},
   "outputs": [],
   "source": [
    "Mahasiswa = namedtuple('Mahasiswa', ['nama', 'nim', 'matakuliah'])"
   ]
  },
  {
   "cell_type": "code",
   "execution_count": 5,
   "id": "6cd26e73-549d-43fc-97bb-02ebec5b889a",
   "metadata": {},
   "outputs": [],
   "source": [
    "dataset_mahasiswa = []\n",
    "\n",
    "for _, row in df.iterrows():\n",
    "    nama = row['Nama'].strip()  # Membersihkan spasi ekstra\n",
    "    nim = row['NIM'].strip()\n",
    "    \n",
    "    # Mengambil hanya mata kuliah yang tidak kosong (NaN dihapus)\n",
    "    matakuliah = [col.strip() for col in df.columns[2:] if pd.notna(row[col])]\n",
    "    \n",
    "    # Menyimpan ke dalam NamedTuple\n",
    "    dataset_mahasiswa.append(Mahasiswa(nama, nim, matakuliah))"
   ]
  },
  {
   "cell_type": "code",
   "execution_count": 6,
   "id": "dea99e57-9e05-4a85-8180-984e1a5594a1",
   "metadata": {},
   "outputs": [
    {
     "name": "stdout",
     "output_type": "stream",
     "text": [
      "Daftar Mahasiswa:\n",
      "Nama: Ade, NIM: P03189001, Mata Kuliah: Data mining, Teknologi IoT, Pengolahan Citra Digital, Pemrograman CMS\n",
      "Nama: Arina, NIM: P03189002, Mata Kuliah: Teknologi IoT, Pengolahan Citra Digital, Pemrograman CMS, Realitas Virtual\n",
      "Nama: Dias, NIM: P03189003, Mata Kuliah: Data mining, Pengolahan Citra Digital, Pemrograman CMS, Realitas Virtual\n",
      "Nama: Bagas, NIM: P03189004, Mata Kuliah: Pengolahan Citra Digital, Pemrograman CMS, Realitas Virtual, Game Edukasi, Sistem Keamanan Jaringan\n",
      "Nama: Reyhan, NIM: P03189005, Mata Kuliah: Data mining, Desain Grafis, Pengolahan Citra Digital, Pemrograman CMS, Game Edukasi\n",
      "Nama: Wisnu, NIM: P03189006, Mata Kuliah: Data mining, Desain Grafis, Sistem Informasi Pendidikan, Teknologi IoT, Pemrograman CMS, Realitas Virtual\n",
      "Nama: Aisya, NIM: P03189007, Mata Kuliah: Data mining, Pengolahan Citra Digital, Pemrograman CMS\n",
      "Nama: Azka, NIM: P03189008, Mata Kuliah: Data mining, Pengolahan Citra Digital, Pemrograman CMS, Realitas Virtual, Game Edukasi\n",
      "Nama: Avelline, NIM: P03189009, Mata Kuliah: Data mining, Desain Grafis, Teknologi IoT, Pengolahan Citra Digital, Pemrograman CMS, Realitas Virtual\n",
      "Nama: Adit, NIM: P03189010, Mata Kuliah: Desain Grafis, Teknologi IoT, Pengolahan Citra Digital, Realitas Virtual, Game Edukasi\n",
      "Nama: Rahma, NIM: P03189011, Mata Kuliah: Data mining, Pemrograman CMS, Realitas Virtual, Game Edukasi\n",
      "Nama: Ressa, NIM: P03189012, Mata Kuliah: Data mining, Desain Grafis, Teknologi IoT, Pengolahan Citra Digital, Pemrograman CMS, Realitas Virtual, Game Edukasi, Sistem Keamanan Jaringan\n",
      "Nama: Novi, NIM: P03189013, Mata Kuliah: Pengolahan Citra Digital, Pemrograman CMS, Realitas Virtual, Game Edukasi, Sistem Keamanan Jaringan\n",
      "Nama: Rizka, NIM: P03189014, Mata Kuliah: Data mining, Desain Grafis, Pemrograman CMS, Realitas Virtual, Game Edukasi\n",
      "Nama: Vanesa, NIM: P03189015, Mata Kuliah: Pengolahan Citra Digital, Pemrograman CMS, Realitas Virtual, Game Edukasi\n",
      "Nama: Raisa, NIM: P03189016, Mata Kuliah: Data mining, Teknologi IoT, Pengolahan Citra Digital, Pemrograman CMS, Realitas Virtual, Game Edukasi, Sistem Keamanan Jaringan\n",
      "Nama: Haikal, NIM: P03189017, Mata Kuliah: Data mining, Pengolahan Citra Digital, Pemrograman CMS, Realitas Virtual, Game Edukasi, Sistem Keamanan Jaringan\n",
      "Nama: Ahmad, NIM: P03189018, Mata Kuliah: Teknologi IoT, Pemrograman CMS, Game Edukasi\n",
      "Nama: Stefani, NIM: P03189019, Mata Kuliah: Data mining, Desain Grafis, Pengolahan Citra Digital, Pemrograman CMS, Game Edukasi\n",
      "Nama: Angel, NIM: P03189020, Mata Kuliah: Data mining, Pengolahan Citra Digital, Pemrograman CMS, Realitas Virtual, Game Edukasi\n",
      "Nama: Gita, NIM: P03189021, Mata Kuliah: Data mining, Pengolahan Citra Digital, Pemrograman CMS, Realitas Virtual, Game Edukasi\n",
      "Nama: Ayu, NIM: P03189022, Mata Kuliah: Data mining, Sistem Informasi Pendidikan, Pemrograman CMS, Realitas Virtual, Game Edukasi\n",
      "Nama: Abid, NIM: P03189023, Mata Kuliah: Desain Grafis, Teknologi IoT, Pemrograman CMS, Realitas Virtual, Game Edukasi\n",
      "Nama: Daffa, NIM: P03189024, Mata Kuliah: Data mining, Pemrograman CMS, Realitas Virtual, Game Edukasi, Sistem Keamanan Jaringan\n",
      "Nama: Nauval, NIM: P03189025, Mata Kuliah: Data mining, Pengolahan Citra Digital, Pemrograman CMS, Realitas Virtual, Game Edukasi\n",
      "Nama: Nisa, NIM: P03189026, Mata Kuliah: Desain Grafis, Pengolahan Citra Digital, Pemrograman CMS, Realitas Virtual, Game Edukasi\n",
      "Nama: Fara, NIM: P03189027, Mata Kuliah: Data mining, Teknologi IoT, Pemrograman CMS, Realitas Virtual, Game Edukasi\n",
      "Nama: Arman, NIM: P03189028, Mata Kuliah: Data mining, Pengolahan Citra Digital, Pemrograman CMS, Game Edukasi\n",
      "Nama: Fadil, NIM: P03189029, Mata Kuliah: Data mining, Pengolahan Citra Digital, Pemrograman CMS, Game Edukasi\n",
      "Nama: Zahra, NIM: P03189030, Mata Kuliah: Desain Grafis, Pemrograman CMS, Realitas Virtual, Game Edukasi, Sistem Keamanan Jaringan\n",
      "Nama: Alya, NIM: P03189031, Mata Kuliah: Data mining, Teknologi IoT, Pengolahan Citra Digital, Pemrograman CMS, Game Edukasi\n",
      "Nama: Salsa, NIM: P03189032, Mata Kuliah: Teknologi IoT, Pengolahan Citra Digital, Pemrograman CMS, Realitas Virtual, Game Edukasi\n",
      "Nama: Putri, NIM: P03189033, Mata Kuliah: Data mining, Teknologi IoT, Pemrograman CMS, Realitas Virtual\n",
      "Nama: Davin, NIM: P03189034, Mata Kuliah: Realitas Virtual, Game Edukasi, Sistem Keamanan Jaringan\n",
      "Nama: Abila, NIM: P03189035, Mata Kuliah: Data mining, Teknologi IoT, Pengolahan Citra Digital, Pemrograman CMS, Realitas Virtual, Game Edukasi\n",
      "Nama: Carissa, NIM: P03189036, Mata Kuliah: Data mining, Desain Grafis, Sistem Informasi Pendidikan, Pengolahan Citra Digital, Pemrograman CMS, Realitas Virtual\n",
      "Nama: Dara, NIM: P03189037, Mata Kuliah: Data mining, Desain Grafis, Sistem Informasi Pendidikan, Teknologi IoT, Pengolahan Citra Digital, Pemrograman CMS, Realitas Virtual, Game Edukasi\n",
      "Nama: Desi, NIM: P03189038, Mata Kuliah: Data mining, Desain Grafis, Pemrograman CMS, Realitas Virtual, Game Edukasi, Sistem Keamanan Jaringan\n",
      "Nama: Fitri, NIM: P03189039, Mata Kuliah: Data mining, Sistem Informasi Pendidikan, Pemrograman CMS, Realitas Virtual, Game Edukasi\n",
      "Nama: Geya, NIM: P03189040, Mata Kuliah: Data mining, Desain Grafis, Pemrograman CMS, Realitas Virtual, Game Edukasi\n",
      "Nama: Helen, NIM: P03189041, Mata Kuliah: Data mining, Teknologi IoT, Pengolahan Citra Digital, Pemrograman CMS, Realitas Virtual, Game Edukasi\n",
      "Nama: Ivana, NIM: P03189042, Mata Kuliah: Data mining, Desain Grafis, Sistem Informasi Pendidikan, Pengolahan Citra Digital, Pemrograman CMS, Realitas Virtual, Game Edukasi\n",
      "Nama: Intan, NIM: P03189043, Mata Kuliah: Data mining, Pengolahan Citra Digital, Pemrograman CMS, Realitas Virtual, Sistem Keamanan Jaringan\n",
      "Nama: Keysa, NIM: P03189044, Mata Kuliah: Data mining, Teknologi IoT, Pemrograman CMS, Realitas Virtual\n",
      "Nama: Luna, NIM: P03189045, Mata Kuliah: Data mining, Pengolahan Citra Digital, Pemrograman CMS, Realitas Virtual\n",
      "Nama: Lara, NIM: P03189046, Mata Kuliah: Teknologi IoT, Pemrograman CMS\n",
      "Nama: Melodi, NIM: P03189047, Mata Kuliah: Desain Grafis, Pengolahan Citra Digital, Pemrograman CMS, Realitas Virtual, Sistem Keamanan Jaringan\n",
      "Nama: Manda, NIM: P03189048, Mata Kuliah: Data mining, Teknologi IoT, Pemrograman CMS, Realitas Virtual, Game Edukasi\n",
      "Nama: Naura, NIM: P03189049, Mata Kuliah: Data mining, Desain Grafis, Pengolahan Citra Digital, Pemrograman CMS, Game Edukasi\n",
      "Nama: Naomi, NIM: P03189050, Mata Kuliah: Data mining, Teknologi IoT, Pemrograman CMS, Realitas Virtual, Game Edukasi, Sistem Keamanan Jaringan\n",
      "Nama: Ola, NIM: P03189051, Mata Kuliah: Pengolahan Citra Digital, Pemrograman CMS, Realitas Virtual, Game Edukasi\n",
      "Nama: Okta, NIM: P03189052, Mata Kuliah: Data mining, Pemrograman CMS, Realitas Virtual, Game Edukasi\n",
      "Nama: Pamela, NIM: P03189053, Mata Kuliah: Desain Grafis, Sistem Informasi Pendidikan, Pemrograman CMS, Realitas Virtual, Game Edukasi\n",
      "Nama: Prisa, NIM: P03189054, Mata Kuliah: Data mining, Sistem Informasi Pendidikan, Pengolahan Citra Digital, Pemrograman CMS, Realitas Virtual, Game Edukasi\n",
      "Nama: kiana, NIM: P03189055, Mata Kuliah: Data mining, Desain Grafis, Teknologi IoT, Pengolahan Citra Digital, Pemrograman CMS, Realitas Virtual, Game Edukasi\n",
      "Nama: Rania, NIM: P03189056, Mata Kuliah: Pengolahan Citra Digital, Pemrograman CMS, Realitas Virtual, Game Edukasi, Sistem Keamanan Jaringan\n",
      "Nama: Rayna, NIM: P03189057, Mata Kuliah: Data mining, Desain Grafis, Sistem Informasi Pendidikan, Pengolahan Citra Digital, Pemrograman CMS, Game Edukasi\n",
      "Nama: Safira, NIM: P03189058, Mata Kuliah: Data mining, Teknologi IoT, Pengolahan Citra Digital, Pemrograman CMS, Realitas Virtual, Game Edukasi\n",
      "Nama: Syeril, NIM: P03189059, Mata Kuliah: Desain Grafis, Pengolahan Citra Digital, Pemrograman CMS, Realitas Virtual, Game Edukasi\n",
      "Nama: Sekar, NIM: P03189060, Mata Kuliah: Teknologi IoT, Pengolahan Citra Digital, Pemrograman CMS, Realitas Virtual\n",
      "Nama: Shena, NIM: P03189061, Mata Kuliah: Data mining, Pengolahan Citra Digital, Pemrograman CMS, Realitas Virtual\n",
      "Nama: Tiwi, NIM: P03189062, Mata Kuliah: Data mining, Teknologi IoT, Pengolahan Citra Digital, Pemrograman CMS, Realitas Virtual, Game Edukasi, Sistem Keamanan Jaringan\n",
      "Nama: Thalia, NIM: P03189063, Mata Kuliah: Data mining, Desain Grafis, Pemrograman CMS, Realitas Virtual, Game Edukasi\n",
      "Nama: Agra, NIM: P03189064, Mata Kuliah: Data mining, Pengolahan Citra Digital, Pemrograman CMS, Realitas Virtual\n",
      "Nama: Bilal, NIM: P03189065, Mata Kuliah: Desain Grafis, Pemrograman CMS, Realitas Virtual, Game Edukasi\n",
      "Nama: Cakra, NIM: P03189066, Mata Kuliah: Data mining, Pengolahan Citra Digital, Pemrograman CMS, Realitas Virtual\n",
      "Nama: Bastian, NIM: P03189067, Mata Kuliah: Desain Grafis, Teknologi IoT, Pengolahan Citra Digital, Realitas Virtual, Sistem Keamanan Jaringan\n",
      "Nama: Dylan, NIM: P03189068, Mata Kuliah: Data mining, Teknologi IoT, Pemrograman CMS, Realitas Virtual, Game Edukasi\n",
      "Nama: Dhani, NIM: P03189069, Mata Kuliah: Data mining, Pengolahan Citra Digital, Pemrograman CMS, Realitas Virtual\n",
      "Nama: Danish, NIM: P03189070, Mata Kuliah: Desain Grafis, Pemrograman CMS, Realitas Virtual, Game Edukasi\n",
      "Nama: Evan, NIM: P03189071, Mata Kuliah: Teknologi IoT, Pemrograman CMS, Realitas Virtual, Game Edukasi\n",
      "Nama: Elvano, NIM: P03189072, Mata Kuliah: Data mining, Teknologi IoT, Pengolahan Citra Digital, Pemrograman CMS, Realitas Virtual, Sistem Keamanan Jaringan\n",
      "Nama: Faisal, NIM: P03189073, Mata Kuliah: Data mining, Pengolahan Citra Digital, Pemrograman CMS, Realitas Virtual\n",
      "Nama: Faris, NIM: P03189074, Mata Kuliah: Data mining, Pengolahan Citra Digital, Pemrograman CMS, Realitas Virtual\n",
      "Nama: Gibran, NIM: P03189075, Mata Kuliah: Pengolahan Citra Digital, Pemrograman CMS, Realitas Virtual, Game Edukasi, Sistem Keamanan Jaringan\n",
      "Nama: Iqbal, NIM: P03189076, Mata Kuliah: Data mining, Desain Grafis, Pengolahan Citra Digital, Pemrograman CMS, Realitas Virtual, Game Edukasi\n",
      "Nama: Alan, NIM: P03189077, Mata Kuliah: Data mining, Teknologi IoT, Pengolahan Citra Digital, Pemrograman CMS, Realitas Virtual, Game Edukasi\n",
      "Nama: Malik, NIM: P03189078, Mata Kuliah: Desain Grafis, Teknologi IoT, Pengolahan Citra Digital, Pemrograman CMS, Game Edukasi\n",
      "Nama: Marva, NIM: P03189079, Mata Kuliah: Data mining, Teknologi IoT, Pengolahan Citra Digital, Pemrograman CMS, Realitas Virtual\n",
      "Nama: Tomi, NIM: P03189080, Mata Kuliah: Pengolahan Citra Digital, Pemrograman CMS, Realitas Virtual, Game Edukasi, Sistem Keamanan Jaringan\n",
      "Nama: Theo, NIM: P03189081, Mata Kuliah: Data mining, Realitas Virtual, Sistem Keamanan Jaringan\n",
      "Nama: Valda, NIM: P03189082, Mata Kuliah: Data mining, Teknologi IoT, Pengolahan Citra Digital, Pemrograman CMS, Realitas Virtual, Game Edukasi\n",
      "Nama: Zaki, NIM: P03189083, Mata Kuliah: Desain Grafis, Realitas Virtual\n",
      "Nama: Varen, NIM: P03189084, Mata Kuliah: Data mining, Pengolahan Citra Digital, Pemrograman CMS, Realitas Virtual, Game Edukasi\n",
      "Nama: Salman, NIM: P03189085, Mata Kuliah: Data mining, Teknologi IoT, Pemrograman CMS, Realitas Virtual\n",
      "Nama: Riski, NIM: P03189086, Mata Kuliah: Desain Grafis, Pemrograman CMS, Realitas Virtual, Game Edukasi, Sistem Keamanan Jaringan\n",
      "Nama: Abel, NIM: P03189087, Mata Kuliah: Teknologi IoT, Pengolahan Citra Digital, Pemrograman CMS, Realitas Virtual\n",
      "Nama: Nivea, NIM: P03189088, Mata Kuliah: Data mining, Pengolahan Citra Digital, Pemrograman CMS, Realitas Virtual\n",
      "Nama: Arnav, NIM: P03189089, Mata Kuliah: Pengolahan Citra Digital, Pemrograman CMS, Realitas Virtual\n",
      "Nama: Surya, NIM: P03189090, Mata Kuliah: Data mining, Pengolahan Citra Digital, Pemrograman CMS, Realitas Virtual, Sistem Keamanan Jaringan\n",
      "Nama: Vinsen, NIM: P03189091, Mata Kuliah: Desain Grafis, Teknologi IoT, Pemrograman CMS, Realitas Virtual\n",
      "Nama: Zidan, NIM: P03189092, Mata Kuliah: Pengolahan Citra Digital, Pemrograman CMS, Realitas Virtual\n",
      "Nama: Fahmi, NIM: P03189093, Mata Kuliah: Pengolahan Citra Digital\n",
      "Nama: Imanuel, NIM: P03189094, Mata Kuliah: Teknologi IoT, Pengolahan Citra Digital, Pemrograman CMS, Realitas Virtual\n",
      "Nama: Syahfa, NIM: P03189095, Mata Kuliah: Desain Grafis, Pemrograman CMS, Realitas Virtual, Game Edukasi\n",
      "Nama: Adam, NIM: P03189096, Mata Kuliah: Data mining, Pemrograman CMS, Realitas Virtual, Game Edukasi, Sistem Keamanan Jaringan\n",
      "Nama: Yesi, NIM: P03189097, Mata Kuliah: Pengolahan Citra Digital, Pemrograman CMS, Realitas Virtual\n",
      "Nama: Luthfi, NIM: P03189098, Mata Kuliah: Data mining, Teknologi IoT, Pengolahan Citra Digital, Pemrograman CMS, Realitas Virtual, Sistem Keamanan Jaringan\n",
      "Nama: Melany, NIM: P03189099, Mata Kuliah: Data mining, Sistem Informasi Pendidikan, Pengolahan Citra Digital, Pemrograman CMS, Realitas Virtual\n",
      "Nama: Azizah, NIM: P031890100, Mata Kuliah: Desain Grafis, Teknologi IoT, Pengolahan Citra Digital, Pemrograman CMS, Realitas Virtual, Sistem Keamanan Jaringan\n"
     ]
    }
   ],
   "source": [
    "print(\"Daftar Mahasiswa:\")\n",
    "for mhs in dataset_mahasiswa:\n",
    "    print(f\"Nama: {mhs.nama}, NIM: {mhs.nim}, Mata Kuliah: {', '.join(mhs.matakuliah)}\")"
   ]
  },
  {
   "cell_type": "code",
   "execution_count": 7,
   "id": "89326f5a-f94b-4384-b234-81d9392df05d",
   "metadata": {},
   "outputs": [
    {
     "name": "stdout",
     "output_type": "stream",
     "text": [
      "\n",
      "Mahasiswa yang mengambil Data mining: Ade, Dias, Reyhan, Wisnu, Aisya, Azka, Avelline, Rahma, Ressa, Rizka, Raisa, Haikal, Stefani, Angel, Gita, Ayu, Daffa, Nauval, Fara, Arman, Fadil, Alya, Putri, Abila, Carissa, Dara, Desi, Fitri, Geya, Helen, Ivana, Intan, Keysa, Luna, Manda, Naura, Naomi, Okta, Prisa, kiana, Rayna, Safira, Shena, Tiwi, Thalia, Agra, Cakra, Dylan, Dhani, Elvano, Faisal, Faris, Iqbal, Alan, Marva, Theo, Valda, Varen, Salman, Nivea, Surya, Adam, Luthfi, Melany\n"
     ]
    }
   ],
   "source": [
    "matakuliah_dicari = \"Data mining\"\n",
    "mahasiswa_pengambil = [mhs.nama for mhs in dataset_mahasiswa if matakuliah_dicari in mhs.matakuliah]\n",
    "\n",
    "print(f\"\\nMahasiswa yang mengambil {matakuliah_dicari}: {', '.join(mahasiswa_pengambil)}\")"
   ]
  },
  {
   "cell_type": "code",
   "execution_count": 8,
   "id": "3c297336-eafb-4081-b5b2-141c21fd00c9",
   "metadata": {},
   "outputs": [
    {
     "name": "stdout",
     "output_type": "stream",
     "text": [
      "\n",
      "Data Mahasiswa dalam Format Dictionary:\n",
      "[{'nama': 'Ade', 'nim': 'P03189001', 'matakuliah': ['Data mining', 'Teknologi IoT', 'Pengolahan Citra Digital', 'Pemrograman CMS']}, {'nama': 'Arina', 'nim': 'P03189002', 'matakuliah': ['Teknologi IoT', 'Pengolahan Citra Digital', 'Pemrograman CMS', 'Realitas Virtual']}, {'nama': 'Dias', 'nim': 'P03189003', 'matakuliah': ['Data mining', 'Pengolahan Citra Digital', 'Pemrograman CMS', 'Realitas Virtual']}]\n"
     ]
    }
   ],
   "source": [
    "dict_mahasiswa = [mhs._asdict() for mhs in dataset_mahasiswa]\n",
    "print(\"\\nData Mahasiswa dalam Format Dictionary:\")\n",
    "print(dict_mahasiswa[:3])  # Menampilkan 3 data pertama"
   ]
  },
  {
   "cell_type": "code",
   "execution_count": null,
   "id": "74dbef3e-98ad-4fb8-813f-91380d6dd1d8",
   "metadata": {},
   "outputs": [],
   "source": []
  }
 ],
 "metadata": {
  "kernelspec": {
   "display_name": "Python 3 (ipykernel)",
   "language": "python",
   "name": "python3"
  },
  "language_info": {
   "codemirror_mode": {
    "name": "ipython",
    "version": 3
   },
   "file_extension": ".py",
   "mimetype": "text/x-python",
   "name": "python",
   "nbconvert_exporter": "python",
   "pygments_lexer": "ipython3",
   "version": "3.13.1"
  }
 },
 "nbformat": 4,
 "nbformat_minor": 5
}
